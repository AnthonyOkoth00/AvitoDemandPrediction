{
 "cells": [
  {
   "cell_type": "code",
   "execution_count": null,
   "metadata": {},
   "outputs": [],
   "source": [
    "import pandas as pd\n",
    "import numpy as np\n",
    "import matplotlib\n",
    "import matplotlib.pyplot as plt\n",
    "import seaborn as sns\n",
    "color = sns.color_palette()\n",
    "import plotly.offline as py\n",
    "py.init_notebook_mode(connected=True)\n",
    "from plotly.offline import init_notebook_mode, iplot\n",
    "init_notebook_mode(connected=True)\n",
    "import plotly.graph_objs as go\n",
    "import plotly.offline as offline\n",
    "offline.init_notebook_mode()\n",
    "import plotly.tools as tls\n",
    "import squarify\n",
    "from mpl_toolkits.basemap import Basemap\n",
    "from numpy import array\n",
    "from matplotlib import cm\n",
    "\n",
    "#Suppres unnecessary warnings so that notebook remains uncluttered\n",
    "import warnings\n",
    "warnings.filterwarnings(\"ignore\")\n",
    "\n",
    "#Print all rows and columns\n",
    "pd.set_option(\"display.max_columns\", None)\n",
    "pd.set_option(\"display.max_rows\", None)\n",
    "\n",
    "from nltk.corpus import stopwords\n",
    "from textblob import TextBlob\n",
    "import datetime as dt\n",
    "import warnings\n",
    "import string\n",
    "import time\n",
    "stop_words = list(set(stopwords.words(\"russian\")))\n",
    "warnings.filterwarnings(\"ignore\")\n",
    "punctuation = string.punctuation\n",
    "\n",
    "#Plotting decision tree\n",
    "from sklearn import tree\n",
    "from IPython.display import Image as PImage\n",
    "from subprocess import check_call\n",
    "from PIL import Image, ImageDraw, ImageFont\n",
    "import re\n",
    "\n",
    "#Venn diagram\n",
    "from matplotlib_venn import venn2\n",
    "\n",
    "\n",
    "##Read the data\n",
    "print(\"Reading Data....\")\n",
    "periods_test = pd.read_csv(\"/Data/periods_test.csv\", parse_dates=[\"activation_date\", \"date_from\", \"date_to\"])\n",
    "periods_train = pd.read_csv(\"/Data/periods_train.csv\", parse_dates=[\"activation_date\", \"date_from\", \"date_to\"])\n",
    "test = pd.read_csv(\"/Data/test.csv\")\n",
    "train = pd.read_csv(\"/Data/train.csv\")\n",
    "print(\"Reading Done ....\")\n"
   ]
  }
 ],
 "metadata": {
  "kernelspec": {
   "display_name": "Python 3",
   "language": "python",
   "name": "python3"
  },
  "language_info": {
   "codemirror_mode": {
    "name": "ipython",
    "version": 3
   },
   "file_extension": ".py",
   "mimetype": "text/x-python",
   "name": "python",
   "nbconvert_exporter": "python",
   "pygments_lexer": "ipython3",
   "version": "3.6.5"
  }
 },
 "nbformat": 4,
 "nbformat_minor": 2
}
